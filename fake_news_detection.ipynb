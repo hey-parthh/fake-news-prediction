{
  "cells": [
    {
      "cell_type": "markdown",
      "metadata": {
        "id": "Smj6epFvmggE"
      },
      "source": [
        "importing the dependecies"
      ]
    },
    {
      "cell_type": "code",
      "execution_count": 1,
      "metadata": {
        "id": "5wFwbGe_mmq8"
      },
      "outputs": [],
      "source": [
        "import numpy as np\n",
        "import pandas as pd\n",
        "import re\n",
        "from nltk.corpus import stopwords\n",
        "from nltk.stem.porter import PorterStemmer\n",
        "from sklearn.feature_extraction.text import TfidfVectorizer\n",
        "from sklearn.model_selection import train_test_split\n",
        "from sklearn.linear_model import LogisticRegression\n",
        "from sklearn.metrics import accuracy_score"
      ]
    },
    {
      "cell_type": "code",
      "execution_count": 2,
      "metadata": {
        "colab": {
          "base_uri": "https://localhost:8080/"
        },
        "id": "pvWQW9dmoDIz",
        "outputId": "40fc4952-4d9a-4ea8-e4e7-84144914723a"
      },
      "outputs": [
        {
          "name": "stderr",
          "output_type": "stream",
          "text": [
            "[nltk_data] Downloading package stopwords to\n",
            "[nltk_data]     C:\\Users\\parth\\AppData\\Roaming\\nltk_data...\n",
            "[nltk_data]   Package stopwords is already up-to-date!\n"
          ]
        },
        {
          "data": {
            "text/plain": [
              "True"
            ]
          },
          "execution_count": 2,
          "metadata": {},
          "output_type": "execute_result"
        }
      ],
      "source": [
        "import nltk\n",
        "nltk.download('stopwords')"
      ]
    },
    {
      "cell_type": "code",
      "execution_count": 3,
      "metadata": {
        "colab": {
          "base_uri": "https://localhost:8080/"
        },
        "id": "09k6gPAgoydM",
        "outputId": "ca56824d-1f5c-42f0-b2c9-77c2d8a15ce2"
      },
      "outputs": [
        {
          "name": "stdout",
          "output_type": "stream",
          "text": [
            "['a', 'about', 'above', 'after', 'again', 'against', 'ain', 'all', 'am', 'an', 'and', 'any', 'are', 'aren', \"aren't\", 'as', 'at', 'be', 'because', 'been', 'before', 'being', 'below', 'between', 'both', 'but', 'by', 'can', 'couldn', \"couldn't\", 'd', 'did', 'didn', \"didn't\", 'do', 'does', 'doesn', \"doesn't\", 'doing', 'don', \"don't\", 'down', 'during', 'each', 'few', 'for', 'from', 'further', 'had', 'hadn', \"hadn't\", 'has', 'hasn', \"hasn't\", 'have', 'haven', \"haven't\", 'having', 'he', \"he'd\", \"he'll\", 'her', 'here', 'hers', 'herself', \"he's\", 'him', 'himself', 'his', 'how', 'i', \"i'd\", 'if', \"i'll\", \"i'm\", 'in', 'into', 'is', 'isn', \"isn't\", 'it', \"it'd\", \"it'll\", \"it's\", 'its', 'itself', \"i've\", 'just', 'll', 'm', 'ma', 'me', 'mightn', \"mightn't\", 'more', 'most', 'mustn', \"mustn't\", 'my', 'myself', 'needn', \"needn't\", 'no', 'nor', 'not', 'now', 'o', 'of', 'off', 'on', 'once', 'only', 'or', 'other', 'our', 'ours', 'ourselves', 'out', 'over', 'own', 're', 's', 'same', 'shan', \"shan't\", 'she', \"she'd\", \"she'll\", \"she's\", 'should', 'shouldn', \"shouldn't\", \"should've\", 'so', 'some', 'such', 't', 'than', 'that', \"that'll\", 'the', 'their', 'theirs', 'them', 'themselves', 'then', 'there', 'these', 'they', \"they'd\", \"they'll\", \"they're\", \"they've\", 'this', 'those', 'through', 'to', 'too', 'under', 'until', 'up', 've', 'very', 'was', 'wasn', \"wasn't\", 'we', \"we'd\", \"we'll\", \"we're\", 'were', 'weren', \"weren't\", \"we've\", 'what', 'when', 'where', 'which', 'while', 'who', 'whom', 'why', 'will', 'with', 'won', \"won't\", 'wouldn', \"wouldn't\", 'y', 'you', \"you'd\", \"you'll\", 'your', \"you're\", 'yours', 'yourself', 'yourselves', \"you've\"]\n"
          ]
        }
      ],
      "source": [
        "# printing english stopwords\n",
        "print(stopwords.words('english'))"
      ]
    },
    {
      "cell_type": "markdown",
      "metadata": {
        "id": "_jlwZGA9pLAc"
      },
      "source": [
        "Data Preprocessing"
      ]
    },
    {
      "cell_type": "code",
      "execution_count": 4,
      "metadata": {
        "id": "EvEZ599Po4hN"
      },
      "outputs": [],
      "source": [
        "# load dataset in pandas\n",
        "fake = pd.read_csv('Fake.csv')\n",
        "real = pd.read_csv('True.csv')"
      ]
    },
    {
      "cell_type": "code",
      "execution_count": 5,
      "metadata": {
        "id": "wb7-Lt3lpcx2"
      },
      "outputs": [],
      "source": [
        "#create the label column\n",
        "real['label'] = 'real'\n",
        "fake['label'] = 'fake'"
      ]
    },
    {
      "cell_type": "code",
      "execution_count": 6,
      "metadata": {
        "id": "Luq3Bw6YCPMF"
      },
      "outputs": [],
      "source": [
        "# combining the datasets into one\n",
        "combined_dataset = pd.concat([real, fake], ignore_index = True)"
      ]
    },
    {
      "cell_type": "code",
      "execution_count": 7,
      "metadata": {
        "id": "AtpkDAayKNLu"
      },
      "outputs": [],
      "source": [
        "combined_dataset = combined_dataset.sample(frac=1, random_state = 42)"
      ]
    },
    {
      "cell_type": "code",
      "execution_count": 8,
      "metadata": {
        "colab": {
          "base_uri": "https://localhost:8080/"
        },
        "id": "zB9wUL0YKd7t",
        "outputId": "4b336025-e1e4-45bc-df8a-604031a0905f"
      },
      "outputs": [
        {
          "data": {
            "text/plain": [
              "(44898, 5)"
            ]
          },
          "execution_count": 8,
          "metadata": {},
          "output_type": "execute_result"
        }
      ],
      "source": [
        "combined_dataset.shape"
      ]
    },
    {
      "cell_type": "code",
      "execution_count": 9,
      "metadata": {
        "colab": {
          "base_uri": "https://localhost:8080/",
          "height": 363
        },
        "id": "-xgoCJPqKytL",
        "outputId": "73286007-5a02-4ee5-8e04-daa4ce598b44"
      },
      "outputs": [
        {
          "data": {
            "text/html": [
              "<div>\n",
              "<style scoped>\n",
              "    .dataframe tbody tr th:only-of-type {\n",
              "        vertical-align: middle;\n",
              "    }\n",
              "\n",
              "    .dataframe tbody tr th {\n",
              "        vertical-align: top;\n",
              "    }\n",
              "\n",
              "    .dataframe thead th {\n",
              "        text-align: right;\n",
              "    }\n",
              "</style>\n",
              "<table border=\"1\" class=\"dataframe\">\n",
              "  <thead>\n",
              "    <tr style=\"text-align: right;\">\n",
              "      <th></th>\n",
              "      <th>title</th>\n",
              "      <th>text</th>\n",
              "      <th>subject</th>\n",
              "      <th>date</th>\n",
              "      <th>label</th>\n",
              "    </tr>\n",
              "  </thead>\n",
              "  <tbody>\n",
              "    <tr>\n",
              "      <th>22216</th>\n",
              "      <td>BREAKING: GOP Chairman Grassley Has Had Enoug...</td>\n",
              "      <td>Donald Trump s White House is in chaos, and th...</td>\n",
              "      <td>News</td>\n",
              "      <td>July 21, 2017</td>\n",
              "      <td>fake</td>\n",
              "    </tr>\n",
              "    <tr>\n",
              "      <th>27917</th>\n",
              "      <td>Failed GOP Candidates Remembered In Hilarious...</td>\n",
              "      <td>Now that Donald Trump is the presumptive GOP n...</td>\n",
              "      <td>News</td>\n",
              "      <td>May 7, 2016</td>\n",
              "      <td>fake</td>\n",
              "    </tr>\n",
              "    <tr>\n",
              "      <th>25007</th>\n",
              "      <td>Mike Pence’s New DC Neighbors Are HILARIOUSLY...</td>\n",
              "      <td>Mike Pence is a huge homophobe. He supports ex...</td>\n",
              "      <td>News</td>\n",
              "      <td>December 3, 2016</td>\n",
              "      <td>fake</td>\n",
              "    </tr>\n",
              "    <tr>\n",
              "      <th>1377</th>\n",
              "      <td>California AG pledges to defend birth control ...</td>\n",
              "      <td>SAN FRANCISCO (Reuters) - California Attorney ...</td>\n",
              "      <td>politicsNews</td>\n",
              "      <td>October 6, 2017</td>\n",
              "      <td>real</td>\n",
              "    </tr>\n",
              "    <tr>\n",
              "      <th>32476</th>\n",
              "      <td>AZ RANCHERS Living On US-Mexico Border Destroy...</td>\n",
              "      <td>Twisted reasoning is all that comes from Pelos...</td>\n",
              "      <td>politics</td>\n",
              "      <td>Apr 25, 2017</td>\n",
              "      <td>fake</td>\n",
              "    </tr>\n",
              "    <tr>\n",
              "      <th>5766</th>\n",
              "      <td>As private lawyer, Trump high court pick was f...</td>\n",
              "      <td>WASHINGTON (Reuters) - As a lawyer in private ...</td>\n",
              "      <td>politicsNews</td>\n",
              "      <td>February 1, 2017</td>\n",
              "      <td>real</td>\n",
              "    </tr>\n",
              "    <tr>\n",
              "      <th>16230</th>\n",
              "      <td>Yemeni Salafist imam killed in Aden: sources</td>\n",
              "      <td>ADEN (Reuters) - A Salafist imam was shot dead...</td>\n",
              "      <td>worldnews</td>\n",
              "      <td>October 28, 2017</td>\n",
              "      <td>real</td>\n",
              "    </tr>\n",
              "    <tr>\n",
              "      <th>20911</th>\n",
              "      <td>FBI says witnesses in U.S. probe into Malaysia...</td>\n",
              "      <td>KUALA LUMPUR (Reuters) - Potential witnesses t...</td>\n",
              "      <td>worldnews</td>\n",
              "      <td>September 6, 2017</td>\n",
              "      <td>real</td>\n",
              "    </tr>\n",
              "    <tr>\n",
              "      <th>35838</th>\n",
              "      <td>An Easy To Read Chart Shows How Bernie Sanders...</td>\n",
              "      <td>The goal of socialism is communism.  -Vladimi...</td>\n",
              "      <td>politics</td>\n",
              "      <td>Feb 24, 2016</td>\n",
              "      <td>fake</td>\n",
              "    </tr>\n",
              "    <tr>\n",
              "      <th>33155</th>\n",
              "      <td>MMA FIGHTER JAKE SHIELDS Embarrasses Cowards I...</td>\n",
              "      <td>Opposing views and beliefs has much of this co...</td>\n",
              "      <td>politics</td>\n",
              "      <td>Feb 4, 2017</td>\n",
              "      <td>fake</td>\n",
              "    </tr>\n",
              "  </tbody>\n",
              "</table>\n",
              "</div>"
            ],
            "text/plain": [
              "                                                   title  \\\n",
              "22216   BREAKING: GOP Chairman Grassley Has Had Enoug...   \n",
              "27917   Failed GOP Candidates Remembered In Hilarious...   \n",
              "25007   Mike Pence’s New DC Neighbors Are HILARIOUSLY...   \n",
              "1377   California AG pledges to defend birth control ...   \n",
              "32476  AZ RANCHERS Living On US-Mexico Border Destroy...   \n",
              "5766   As private lawyer, Trump high court pick was f...   \n",
              "16230       Yemeni Salafist imam killed in Aden: sources   \n",
              "20911  FBI says witnesses in U.S. probe into Malaysia...   \n",
              "35838  An Easy To Read Chart Shows How Bernie Sanders...   \n",
              "33155  MMA FIGHTER JAKE SHIELDS Embarrasses Cowards I...   \n",
              "\n",
              "                                                    text       subject  \\\n",
              "22216  Donald Trump s White House is in chaos, and th...          News   \n",
              "27917  Now that Donald Trump is the presumptive GOP n...          News   \n",
              "25007  Mike Pence is a huge homophobe. He supports ex...          News   \n",
              "1377   SAN FRANCISCO (Reuters) - California Attorney ...  politicsNews   \n",
              "32476  Twisted reasoning is all that comes from Pelos...      politics   \n",
              "5766   WASHINGTON (Reuters) - As a lawyer in private ...  politicsNews   \n",
              "16230  ADEN (Reuters) - A Salafist imam was shot dead...     worldnews   \n",
              "20911  KUALA LUMPUR (Reuters) - Potential witnesses t...     worldnews   \n",
              "35838   The goal of socialism is communism.  -Vladimi...      politics   \n",
              "33155  Opposing views and beliefs has much of this co...      politics   \n",
              "\n",
              "                     date label  \n",
              "22216       July 21, 2017  fake  \n",
              "27917         May 7, 2016  fake  \n",
              "25007    December 3, 2016  fake  \n",
              "1377     October 6, 2017   real  \n",
              "32476        Apr 25, 2017  fake  \n",
              "5766    February 1, 2017   real  \n",
              "16230   October 28, 2017   real  \n",
              "20911  September 6, 2017   real  \n",
              "35838        Feb 24, 2016  fake  \n",
              "33155         Feb 4, 2017  fake  "
            ]
          },
          "execution_count": 9,
          "metadata": {},
          "output_type": "execute_result"
        }
      ],
      "source": [
        "combined_dataset.head(10)"
      ]
    },
    {
      "cell_type": "code",
      "execution_count": 10,
      "metadata": {
        "colab": {
          "base_uri": "https://localhost:8080/",
          "height": 241
        },
        "id": "7N0aKNbgLwG-",
        "outputId": "320c3d4f-4b50-49ac-ffdf-81eda5c1a123"
      },
      "outputs": [
        {
          "data": {
            "text/plain": [
              "title      0\n",
              "text       0\n",
              "subject    0\n",
              "date       0\n",
              "label      0\n",
              "dtype: int64"
            ]
          },
          "execution_count": 10,
          "metadata": {},
          "output_type": "execute_result"
        }
      ],
      "source": [
        "#checking for missing values\n",
        "combined_dataset.isnull().sum()"
      ]
    },
    {
      "cell_type": "code",
      "execution_count": 11,
      "metadata": {
        "id": "10YaObeJL6Zu"
      },
      "outputs": [],
      "source": [
        "# merging the title and text\n",
        "combined_dataset['content'] = combined_dataset['title'] + ' ' + combined_dataset['text']"
      ]
    },
    {
      "cell_type": "code",
      "execution_count": 12,
      "metadata": {
        "colab": {
          "base_uri": "https://localhost:8080/"
        },
        "id": "W0OTYqzXPKoQ",
        "outputId": "62168e33-a91a-4df7-dee7-aa1e55f77588"
      },
      "outputs": [
        {
          "name": "stdout",
          "output_type": "stream",
          "text": [
            "22216     BREAKING: GOP Chairman Grassley Has Had Enoug...\n",
            "27917     Failed GOP Candidates Remembered In Hilarious...\n",
            "25007     Mike Pence’s New DC Neighbors Are HILARIOUSLY...\n",
            "1377     California AG pledges to defend birth control ...\n",
            "32476    AZ RANCHERS Living On US-Mexico Border Destroy...\n",
            "                               ...                        \n",
            "11284    Nigeria says U.S. agrees delayed $593 million ...\n",
            "44732    Boiler Room #62 – Fatal Illusions Tune in to t...\n",
            "38158    ATHEISTS SUE GOVERNOR OF TEXAS Over Display on...\n",
            "860      Republican tax plan would deal financial hit t...\n",
            "15795    U.N. refugee commissioner says Australia must ...\n",
            "Name: content, Length: 44898, dtype: object\n"
          ]
        }
      ],
      "source": [
        "print(combined_dataset['content'])"
      ]
    },
    {
      "cell_type": "code",
      "execution_count": 13,
      "metadata": {
        "id": "UWr2ZnlePRv3"
      },
      "outputs": [],
      "source": [
        "#separating the data and label\n",
        "X = combined_dataset.drop(columns = 'label', axis = 1)\n",
        "Y = combined_dataset['label']"
      ]
    },
    {
      "cell_type": "code",
      "execution_count": 14,
      "metadata": {
        "colab": {
          "base_uri": "https://localhost:8080/"
        },
        "id": "9dKDVGzSTJ5v",
        "outputId": "ab3ff1b1-9772-4df7-b72b-7e4ec584c955"
      },
      "outputs": [
        {
          "name": "stdout",
          "output_type": "stream",
          "text": [
            "                                                   title  \\\n",
            "22216   BREAKING: GOP Chairman Grassley Has Had Enoug...   \n",
            "27917   Failed GOP Candidates Remembered In Hilarious...   \n",
            "25007   Mike Pence’s New DC Neighbors Are HILARIOUSLY...   \n",
            "1377   California AG pledges to defend birth control ...   \n",
            "32476  AZ RANCHERS Living On US-Mexico Border Destroy...   \n",
            "...                                                  ...   \n",
            "11284  Nigeria says U.S. agrees delayed $593 million ...   \n",
            "44732                  Boiler Room #62 – Fatal Illusions   \n",
            "38158  ATHEISTS SUE GOVERNOR OF TEXAS Over Display on...   \n",
            "860    Republican tax plan would deal financial hit t...   \n",
            "15795  U.N. refugee commissioner says Australia must ...   \n",
            "\n",
            "                                                    text          subject  \\\n",
            "22216  Donald Trump s White House is in chaos, and th...             News   \n",
            "27917  Now that Donald Trump is the presumptive GOP n...             News   \n",
            "25007  Mike Pence is a huge homophobe. He supports ex...             News   \n",
            "1377   SAN FRANCISCO (Reuters) - California Attorney ...     politicsNews   \n",
            "32476  Twisted reasoning is all that comes from Pelos...         politics   \n",
            "...                                                  ...              ...   \n",
            "11284  ABUJA (Reuters) - The United States has formal...        worldnews   \n",
            "44732  Tune in to the Alternate Current Radio Network...      Middle-east   \n",
            "38158   I m convinced the Freedom From Religion group...  Government News   \n",
            "860    WASHINGTON (Reuters) - The Republican tax plan...     politicsNews   \n",
            "15795  SYDNEY (Reuters) - The U.N. High Commissioner ...        worldnews   \n",
            "\n",
            "                     date                                            content  \n",
            "22216       July 21, 2017   BREAKING: GOP Chairman Grassley Has Had Enoug...  \n",
            "27917         May 7, 2016   Failed GOP Candidates Remembered In Hilarious...  \n",
            "25007    December 3, 2016   Mike Pence’s New DC Neighbors Are HILARIOUSLY...  \n",
            "1377     October 6, 2017   California AG pledges to defend birth control ...  \n",
            "32476        Apr 25, 2017  AZ RANCHERS Living On US-Mexico Border Destroy...  \n",
            "...                   ...                                                ...  \n",
            "11284  December 27, 2017   Nigeria says U.S. agrees delayed $593 million ...  \n",
            "44732       June 29, 2016  Boiler Room #62 – Fatal Illusions Tune in to t...  \n",
            "38158        Feb 27, 2016  ATHEISTS SUE GOVERNOR OF TEXAS Over Display on...  \n",
            "860     November 2, 2017   Republican tax plan would deal financial hit t...  \n",
            "15795   November 1, 2017   U.N. refugee commissioner says Australia must ...  \n",
            "\n",
            "[44898 rows x 5 columns]\n",
            "22216    fake\n",
            "27917    fake\n",
            "25007    fake\n",
            "1377     real\n",
            "32476    fake\n",
            "         ... \n",
            "11284    real\n",
            "44732    fake\n",
            "38158    fake\n",
            "860      real\n",
            "15795    real\n",
            "Name: label, Length: 44898, dtype: object\n"
          ]
        }
      ],
      "source": [
        "print(X)\n",
        "print(Y)"
      ]
    },
    {
      "cell_type": "code",
      "execution_count": 15,
      "metadata": {
        "id": "0F0EsfF_TNGS"
      },
      "outputs": [],
      "source": [
        "# stemming\n",
        "port_stem = PorterStemmer()"
      ]
    },
    {
      "cell_type": "code",
      "execution_count": 16,
      "metadata": {
        "id": "CVPAul4jUA_9"
      },
      "outputs": [],
      "source": [
        "def stemming(content):\n",
        "  stemmed_content = re.sub('[^a-zA-Z]', ' ', content)\n",
        "  stemmed_content = stemmed_content.lower()\n",
        "  stemmed_content = stemmed_content.split()\n",
        "  stemmed_content = [port_stem.stem(word) for word in stemmed_content if not word in stopwords.words('english')]\n",
        "  stemmed_content = ' '.join(stemmed_content)\n",
        "  return stemmed_content"
      ]
    },
    {
      "cell_type": "code",
      "execution_count": 17,
      "metadata": {
        "id": "1B3ehaEfZG4G"
      },
      "outputs": [],
      "source": [
        "combined_dataset['content'] = combined_dataset['content'].apply(stemming)"
      ]
    },
    {
      "cell_type": "code",
      "execution_count": 18,
      "metadata": {
        "colab": {
          "base_uri": "https://localhost:8080/"
        },
        "id": "3hMpSbmYbXnQ",
        "outputId": "4674b318-3315-4ab6-c5b0-02da8663cf2b"
      },
      "outputs": [
        {
          "name": "stdout",
          "output_type": "stream",
          "text": [
            "22216    break gop chairman grassley enough demand trum...\n",
            "27917    fail gop candid rememb hilari mock eulog video...\n",
            "25007    mike penc new dc neighbor hilari troll homopho...\n",
            "1377     california ag pledg defend birth control insur...\n",
            "32476    az rancher live us mexico border destroy nanci...\n",
            "                               ...                        \n",
            "11284    nigeria say u agre delay million fighter plane...\n",
            "44732    boiler room fatal illus tune altern current ra...\n",
            "38158    atheist sue governor texa display capitol grou...\n",
            "860      republican tax plan would deal financi hit u u...\n",
            "15795    u n refuge commission say australia must stop ...\n",
            "Name: content, Length: 44898, dtype: object\n"
          ]
        }
      ],
      "source": [
        "print(combined_dataset['content'])"
      ]
    },
    {
      "cell_type": "code",
      "execution_count": 19,
      "metadata": {
        "id": "6wmoMsuvEZEF"
      },
      "outputs": [],
      "source": [
        "X = combined_dataset['content'].values\n",
        "Y = combined_dataset['label'].values"
      ]
    },
    {
      "cell_type": "code",
      "execution_count": 20,
      "metadata": {
        "colab": {
          "base_uri": "https://localhost:8080/"
        },
        "id": "dSHQVvvrG8lZ",
        "outputId": "6e510862-7509-4d53-8153-3964fbc75e3f"
      },
      "outputs": [
        {
          "name": "stdout",
          "output_type": "stream",
          "text": [
            "['break gop chairman grassley enough demand trump jr testimoni donald trump white hous chao tri cover russia problem mount hour refus acknowledg problem surround fake news hoax howev fact bear thing differ seem crack congression public leadership chuck grassley r iowa head senat judiciari committe fed demand donald trump jr former trump campaign manag paul manafort testifi committe regard infam shadi meet donald trump shadi russian lawyer promis dirt democrat presidenti nomine hillari clinton fact inform due well demand send signal team trump notabl fire special counsel robert mueller circumst despit fact seem seem trump white hous lay groundwork speak speak tweet regard grassley warn also anyon think senat grassley rest senat seriou need look warn alreadi given trump jr manafort either follow order serv subpoena forc compli refus held contempt congress carri seriou jail time even cruel craven creatur within gop sick donald trump corrupt scandal ridden white hous angri stage hostil takeov parti first birther give perman racist label decim effort made pretend republican parti hotb racism turn world upsid nation seem old timer like grassley clearli sick trump bullshit might one could save republ need bit courag featur imag via win mcname getti imag'\n",
            " 'fail gop candid rememb hilari mock eulog video donald trump presumpt gop nomine time rememb candid tri hard beat race white hous forget misstep gaff weird sheer idioci candid jeb bush marco rubio john kasich ted cruz ben carson carli fiorina video make round twitter eulog three fail candid though dead gop might well dead point anyway appropri titl eulog gop peopl make short speech candid past man actual say jeb bush qualifi presid fake tear journalist comedienn francesca fiorentini say dearli belov gather today commemor candid longer us one man speak amus circu rendit chopin funer march rememb jeb way jeb hardli knew ye bad polici find way republican morass inde like jeb polici invis sometim although mani felt would win nomin earli best perform often came debat get fight donald trump virtual everyth sun also bad habit defend brother action iraq memor say relat brother one thing know sure kept us safe move marco rubio fiorentini say call mani thing young charm lil marco last nicknam cours refer trump penchant name call man speak spanish rememb rubio way marco normal boy anoth said involv gang eight immigr bill kill candid fiorentini repli peopl die gang violenc die gang eight violenc maker video save absolut best last cours ben carson dear dr carson one speaker say would gentli rock sleep monoton voic carson especi well known seemingli asleep half time saw eye open wide surpris like surpris voic soft speech slow realli hard stay awak talk imagin give state union address see whole video especi spectacular end carson eulog watch take moment say g bye gop candid http co bl zv aj ajplu may featur imag via screen captur embed video'\n",
            " 'mike penc new dc neighbor hilari troll homophob bigot mike penc huge homophob support ex gay convers therapi oppos hate crime protect lgbtq peopl staunchli marriag equal said believ sex coupl lead societ collaps end folk forc live near vice presid elect near newli rent hous washington dc none happi new neighbor howev instead protest ralli street decid troll instead resid chevi chase neighborhood hang larg rainbow flag home send signal mike penc homophobia welcom neck wood accord local station wjla respect messag show case disagr think said ils heintzen heintzen refer vice presid elect mike penc penc move hous heintzen block stay move vice presid mansion ground naval observatori next year neighbor start hang pride flag vp elect move lgbtq commun critic penc polici regard lgbtq right coupl imag collect rainbow f penc via twitter pride flag send messag mike penc outsid temporari dc home neighbor say come newschannel abc news lgbtq lgbt pic twitter com bfkfj yl tim barber abc timbarb decemb resid nw washington street vp elect penc rent hous send symbol messag resid may hang flag pic twitter com fldysmop suzann kennedi abc suzann novemb flag come accord local peopl great thing let penc know bigotri welcom best attempt display presenc hand like caus anoth meltdown trump undoubtedli accus peopl harass penc bigot view happen hamilton staff either way signal absolut toler bigotri matter hard push hope head explod one even take offic featur imag via chip somodevilla getti imag'\n",
            " ...\n",
            " 'atheist sue governor texa display capitol ground convinc freedom religion group atheist get enough attent kid perpetu offend everyth yet anoth case mock nativ scene childish display su texa governor took texa gov greg abbott su atheist group decis remov nativ scene parodi state capitol decemb freedom religion foundat announc feder lawsuit abbott western district texa austin divis thursday organ alleg governor violat free speech equal protect due process right order remov exhibit commemor birth bill right imag question approv texa state preserv board includ statu liberti found father bill right manger place state capitol dec remain three day abbott act mock capitol nativ scene offens demand remov satir nativ scene capitol abbott tweet dec governor also pen letter state preserv board juvenil parodi violat preserv board regul remov immedi biblic scene newli born jesu christ lie manger bethlehem lie heart christian faith subject imag held sacr million texan foundat tasteless sarcasm noth promot moral gener welfar abbott said contrari foundat spite messag intent design belittl offend undermin rather promot public purpos display promot bill right might otherwis read wnd'\n",
            " 'republican tax plan would deal financi hit u univers washington reuter republican tax plan unveil thursday stir anger u univers said propos tax endow privat institut repeal deduct student loan interest payment would hurt institut student bill republican led hous repres would increas student cost attend colleg billion accord analysi american council educ ace lead lobbi group higher educ plan would discourag particip postsecondari educ make colleg expens enrol undermin financi stabil public privat two year four year colleg univers ace presid ted mitchel said hous speaker paul ryan power republican congress told news confer tax plan would allow typic famili four save around year could go toward colleg save plan would establish percent tax earn larg privat school endow would also scrap deduct interest paid student loan congression analyst said would increas feder revenu billion year smaller tuition relat tax break also end presid donald trump fellow republican lock horn colleg univers say forc liber valu student privat colleg endow total billion accord nation associ colleg univers busi offic nacubo tax would appli endow least asset student enrol sinc univers must balanc budget may rais tuition cut program financi aid order cover new tax said nacubo feder affair director liz clark princeton univers use earn billion endow provid aid percent student pay academ program facil research said bob durke vice presid secretari new jersey school famili incom pay tuition said incom less also forgo pay room board end interest deduct would hurt peopl abil afford educ said justin draeger presid nation associ student financi aid administr us one thing talk whether fund effect use govern money help peopl afford colleg said anoth use offset unclear tax overhaul'\n",
            " 'u n refuge commission say australia must stop unfold humanitarian crisi png sydney reuter u n high commission refuge said australia must take immedi action stop unfold humanitarian emerg see asylum seeker barricad insid abandon detent center papua new guinea without food run water detaine manu island centr two day defi attempt australia papua new guinea close camp say fear violent repris local commun move transit center food exhaust mani men begin show ill effect two day without adequ nourish environ u n refuge commission said australia must urgent resolv papua new guinea australia remain respons well move papua new guinea adequ long term solut outsid countri found u n bodi said statement thursday manu center key part australia controversi sovereign border immigr polici refus allow asylum seeker arriv boat reach shore detain camp papua new guinea nauru south pacif unit nation right group year cite human right abus among detaine center papua new guinea high court rule last year manu center first open illeg camp schedul close oct secur staff withdrew men camp water power util camp cut wednesday desper sourc altern suppli dozen men work night use wooden pole dig deep hole find water use torch light task photo suppli reuter show without run water advoc fear rapid declin sanitari condit camp behrouz boochani kurdish journalist iran said men hunger strike call red cross medicin san frontier msf provid help msf said statement reuter deepli concern sadden australia papua new guinea respons care detaine australia said men move new transit center pledg million million worth food secur next month u n refuge commission said one new facil still makeshift camp compos ship contain contain surround mud electr water connect yet said reloc men design temporari measur allow unit state time complet vet refuge part refuge swap deal accept unit state option resettl papua new guinea none wish stay anoth develop countri lawyer detaine file suit papua new guinea suprem court prevent manu camp closur servic return rule expect later thursday although delay two day alreadi detaine come war torn countri afghanistan iran myanmar pakistan sri lanka syria']\n",
            "['fake' 'fake' 'fake' ... 'fake' 'real' 'real']\n"
          ]
        }
      ],
      "source": [
        "print(X)\n",
        "print(Y)"
      ]
    },
    {
      "cell_type": "code",
      "execution_count": 21,
      "metadata": {
        "colab": {
          "base_uri": "https://localhost:8080/",
          "height": 356
        },
        "collapsed": true,
        "id": "6EZaOBGwG-bx",
        "outputId": "8c161bc3-2ca2-4c8a-8482-1d73805c2637"
      },
      "outputs": [],
      "source": [
        "#converting textual data to numerical data\n",
        "vectorizer = TfidfVectorizer()\n",
        "vectorizer.fit(X)\n",
        "\n",
        "X = vectorizer.transform(X)"
      ]
    },
    {
      "cell_type": "code",
      "execution_count": 22,
      "metadata": {
        "colab": {
          "base_uri": "https://localhost:8080/"
        },
        "id": "q8sGFQHNHjKd",
        "outputId": "cbd7bb46-75ab-4733-b0af-268c6ba52bf6"
      },
      "outputs": [
        {
          "name": "stdout",
          "output_type": "stream",
          "text": [
            "<Compressed Sparse Row sparse matrix of dtype 'float64'\n",
            "\twith 6904081 stored elements and shape (44898, 89868)>\n",
            "  Coords\tValues\n",
            "  (0, 570)\t0.06055486453372135\n",
            "  (0, 2286)\t0.04253552689623891\n",
            "  (0, 2301)\t0.025666202113816185\n",
            "  (0, 3031)\t0.063093661763644\n",
            "  (0, 3388)\t0.047259753130124114\n",
            "  (0, 6574)\t0.07041583382179394\n",
            "  (0, 7853)\t0.0898677958851911\n",
            "  (0, 7886)\t0.059913473329118644\n",
            "  (0, 9454)\t0.048097596645320734\n",
            "  (0, 10324)\t0.08231690448262517\n",
            "  (0, 11174)\t0.03296114815015033\n",
            "  (0, 11631)\t0.04919300578107092\n",
            "  (0, 12522)\t0.05138750652591612\n",
            "  (0, 12642)\t0.06680808165549404\n",
            "  (0, 13496)\t0.06811316396970238\n",
            "  (0, 13713)\t0.07112856852592032\n",
            "  (0, 13991)\t0.053000278097355684\n",
            "  (0, 14098)\t0.037972261733148126\n",
            "  (0, 14836)\t0.0869210456407381\n",
            "  (0, 14928)\t0.06842646468851935\n",
            "  (0, 15149)\t0.04165264736324387\n",
            "  (0, 15153)\t0.051876038877662234\n",
            "  (0, 15333)\t0.08494945735141231\n",
            "  (0, 15663)\t0.056535937666043194\n",
            "  (0, 15765)\t0.029199968119368196\n",
            "  :\t:\n",
            "  (44897, 77773)\t0.03757368913834899\n",
            "  (44897, 77960)\t0.01293068706666485\n",
            "  (44897, 78688)\t0.042561076129468856\n",
            "  (44897, 78704)\t0.040544018114292965\n",
            "  (44897, 79058)\t0.05779728742472851\n",
            "  (44897, 80447)\t0.04313047656027923\n",
            "  (44897, 81481)\t0.07874060468713938\n",
            "  (44897, 81621)\t0.04451315198091657\n",
            "  (44897, 82255)\t0.03796982127137953\n",
            "  (44897, 82341)\t0.030435493815230488\n",
            "  (44897, 82450)\t0.03850229932669336\n",
            "  (44897, 83260)\t0.033882067136460456\n",
            "  (44897, 83611)\t0.02756733398300722\n",
            "  (44897, 84581)\t0.020184813480884824\n",
            "  (44897, 84769)\t0.13810212379455322\n",
            "  (44897, 85054)\t0.018516634241257903\n",
            "  (44897, 85198)\t0.01690775168103281\n",
            "  (44897, 86130)\t0.030132938735777468\n",
            "  (44897, 86169)\t0.040827065890862685\n",
            "  (44897, 86180)\t0.059445897055736864\n",
            "  (44897, 86481)\t0.04853978108940374\n",
            "  (44897, 86551)\t0.015240029412780992\n",
            "  (44897, 86624)\t0.029560471446670476\n",
            "  (44897, 87936)\t0.024069000877548073\n",
            "  (44897, 88056)\t0.021027619607628736\n"
          ]
        }
      ],
      "source": [
        "print(X)"
      ]
    },
    {
      "cell_type": "markdown",
      "metadata": {
        "id": "HozRt48oI-EC"
      },
      "source": [
        "Splitting dataset into training and test data"
      ]
    },
    {
      "cell_type": "code",
      "execution_count": 23,
      "metadata": {
        "id": "htju-PMpIv2C"
      },
      "outputs": [],
      "source": [
        "X_train, X_test, Y_train, Y_test = train_test_split(X, Y, test_size = 0.2, stratify=Y, random_state = 2)"
      ]
    },
    {
      "cell_type": "markdown",
      "metadata": {
        "id": "ZUYUg28WJ0bT"
      },
      "source": [
        "Training Logistic Regression Model"
      ]
    },
    {
      "cell_type": "code",
      "execution_count": 24,
      "metadata": {
        "id": "a843l8XbJ4Gm"
      },
      "outputs": [],
      "source": [
        "model = LogisticRegression()"
      ]
    },
    {
      "cell_type": "code",
      "execution_count": 25,
      "metadata": {
        "colab": {
          "base_uri": "https://localhost:8080/",
          "height": 80
        },
        "id": "_RxHcadgKsM9",
        "outputId": "42dcfc3f-ff4b-4824-d51a-55a250748984"
      },
      "outputs": [
        {
          "data": {
            "text/html": [
              "<style>#sk-container-id-1 {\n",
              "  /* Definition of color scheme common for light and dark mode */\n",
              "  --sklearn-color-text: #000;\n",
              "  --sklearn-color-text-muted: #666;\n",
              "  --sklearn-color-line: gray;\n",
              "  /* Definition of color scheme for unfitted estimators */\n",
              "  --sklearn-color-unfitted-level-0: #fff5e6;\n",
              "  --sklearn-color-unfitted-level-1: #f6e4d2;\n",
              "  --sklearn-color-unfitted-level-2: #ffe0b3;\n",
              "  --sklearn-color-unfitted-level-3: chocolate;\n",
              "  /* Definition of color scheme for fitted estimators */\n",
              "  --sklearn-color-fitted-level-0: #f0f8ff;\n",
              "  --sklearn-color-fitted-level-1: #d4ebff;\n",
              "  --sklearn-color-fitted-level-2: #b3dbfd;\n",
              "  --sklearn-color-fitted-level-3: cornflowerblue;\n",
              "\n",
              "  /* Specific color for light theme */\n",
              "  --sklearn-color-text-on-default-background: var(--sg-text-color, var(--theme-code-foreground, var(--jp-content-font-color1, black)));\n",
              "  --sklearn-color-background: var(--sg-background-color, var(--theme-background, var(--jp-layout-color0, white)));\n",
              "  --sklearn-color-border-box: var(--sg-text-color, var(--theme-code-foreground, var(--jp-content-font-color1, black)));\n",
              "  --sklearn-color-icon: #696969;\n",
              "\n",
              "  @media (prefers-color-scheme: dark) {\n",
              "    /* Redefinition of color scheme for dark theme */\n",
              "    --sklearn-color-text-on-default-background: var(--sg-text-color, var(--theme-code-foreground, var(--jp-content-font-color1, white)));\n",
              "    --sklearn-color-background: var(--sg-background-color, var(--theme-background, var(--jp-layout-color0, #111)));\n",
              "    --sklearn-color-border-box: var(--sg-text-color, var(--theme-code-foreground, var(--jp-content-font-color1, white)));\n",
              "    --sklearn-color-icon: #878787;\n",
              "  }\n",
              "}\n",
              "\n",
              "#sk-container-id-1 {\n",
              "  color: var(--sklearn-color-text);\n",
              "}\n",
              "\n",
              "#sk-container-id-1 pre {\n",
              "  padding: 0;\n",
              "}\n",
              "\n",
              "#sk-container-id-1 input.sk-hidden--visually {\n",
              "  border: 0;\n",
              "  clip: rect(1px 1px 1px 1px);\n",
              "  clip: rect(1px, 1px, 1px, 1px);\n",
              "  height: 1px;\n",
              "  margin: -1px;\n",
              "  overflow: hidden;\n",
              "  padding: 0;\n",
              "  position: absolute;\n",
              "  width: 1px;\n",
              "}\n",
              "\n",
              "#sk-container-id-1 div.sk-dashed-wrapped {\n",
              "  border: 1px dashed var(--sklearn-color-line);\n",
              "  margin: 0 0.4em 0.5em 0.4em;\n",
              "  box-sizing: border-box;\n",
              "  padding-bottom: 0.4em;\n",
              "  background-color: var(--sklearn-color-background);\n",
              "}\n",
              "\n",
              "#sk-container-id-1 div.sk-container {\n",
              "  /* jupyter's `normalize.less` sets `[hidden] { display: none; }`\n",
              "     but bootstrap.min.css set `[hidden] { display: none !important; }`\n",
              "     so we also need the `!important` here to be able to override the\n",
              "     default hidden behavior on the sphinx rendered scikit-learn.org.\n",
              "     See: https://github.com/scikit-learn/scikit-learn/issues/21755 */\n",
              "  display: inline-block !important;\n",
              "  position: relative;\n",
              "}\n",
              "\n",
              "#sk-container-id-1 div.sk-text-repr-fallback {\n",
              "  display: none;\n",
              "}\n",
              "\n",
              "div.sk-parallel-item,\n",
              "div.sk-serial,\n",
              "div.sk-item {\n",
              "  /* draw centered vertical line to link estimators */\n",
              "  background-image: linear-gradient(var(--sklearn-color-text-on-default-background), var(--sklearn-color-text-on-default-background));\n",
              "  background-size: 2px 100%;\n",
              "  background-repeat: no-repeat;\n",
              "  background-position: center center;\n",
              "}\n",
              "\n",
              "/* Parallel-specific style estimator block */\n",
              "\n",
              "#sk-container-id-1 div.sk-parallel-item::after {\n",
              "  content: \"\";\n",
              "  width: 100%;\n",
              "  border-bottom: 2px solid var(--sklearn-color-text-on-default-background);\n",
              "  flex-grow: 1;\n",
              "}\n",
              "\n",
              "#sk-container-id-1 div.sk-parallel {\n",
              "  display: flex;\n",
              "  align-items: stretch;\n",
              "  justify-content: center;\n",
              "  background-color: var(--sklearn-color-background);\n",
              "  position: relative;\n",
              "}\n",
              "\n",
              "#sk-container-id-1 div.sk-parallel-item {\n",
              "  display: flex;\n",
              "  flex-direction: column;\n",
              "}\n",
              "\n",
              "#sk-container-id-1 div.sk-parallel-item:first-child::after {\n",
              "  align-self: flex-end;\n",
              "  width: 50%;\n",
              "}\n",
              "\n",
              "#sk-container-id-1 div.sk-parallel-item:last-child::after {\n",
              "  align-self: flex-start;\n",
              "  width: 50%;\n",
              "}\n",
              "\n",
              "#sk-container-id-1 div.sk-parallel-item:only-child::after {\n",
              "  width: 0;\n",
              "}\n",
              "\n",
              "/* Serial-specific style estimator block */\n",
              "\n",
              "#sk-container-id-1 div.sk-serial {\n",
              "  display: flex;\n",
              "  flex-direction: column;\n",
              "  align-items: center;\n",
              "  background-color: var(--sklearn-color-background);\n",
              "  padding-right: 1em;\n",
              "  padding-left: 1em;\n",
              "}\n",
              "\n",
              "\n",
              "/* Toggleable style: style used for estimator/Pipeline/ColumnTransformer box that is\n",
              "clickable and can be expanded/collapsed.\n",
              "- Pipeline and ColumnTransformer use this feature and define the default style\n",
              "- Estimators will overwrite some part of the style using the `sk-estimator` class\n",
              "*/\n",
              "\n",
              "/* Pipeline and ColumnTransformer style (default) */\n",
              "\n",
              "#sk-container-id-1 div.sk-toggleable {\n",
              "  /* Default theme specific background. It is overwritten whether we have a\n",
              "  specific estimator or a Pipeline/ColumnTransformer */\n",
              "  background-color: var(--sklearn-color-background);\n",
              "}\n",
              "\n",
              "/* Toggleable label */\n",
              "#sk-container-id-1 label.sk-toggleable__label {\n",
              "  cursor: pointer;\n",
              "  display: flex;\n",
              "  width: 100%;\n",
              "  margin-bottom: 0;\n",
              "  padding: 0.5em;\n",
              "  box-sizing: border-box;\n",
              "  text-align: center;\n",
              "  align-items: start;\n",
              "  justify-content: space-between;\n",
              "  gap: 0.5em;\n",
              "}\n",
              "\n",
              "#sk-container-id-1 label.sk-toggleable__label .caption {\n",
              "  font-size: 0.6rem;\n",
              "  font-weight: lighter;\n",
              "  color: var(--sklearn-color-text-muted);\n",
              "}\n",
              "\n",
              "#sk-container-id-1 label.sk-toggleable__label-arrow:before {\n",
              "  /* Arrow on the left of the label */\n",
              "  content: \"▸\";\n",
              "  float: left;\n",
              "  margin-right: 0.25em;\n",
              "  color: var(--sklearn-color-icon);\n",
              "}\n",
              "\n",
              "#sk-container-id-1 label.sk-toggleable__label-arrow:hover:before {\n",
              "  color: var(--sklearn-color-text);\n",
              "}\n",
              "\n",
              "/* Toggleable content - dropdown */\n",
              "\n",
              "#sk-container-id-1 div.sk-toggleable__content {\n",
              "  display: none;\n",
              "  text-align: left;\n",
              "  /* unfitted */\n",
              "  background-color: var(--sklearn-color-unfitted-level-0);\n",
              "}\n",
              "\n",
              "#sk-container-id-1 div.sk-toggleable__content.fitted {\n",
              "  /* fitted */\n",
              "  background-color: var(--sklearn-color-fitted-level-0);\n",
              "}\n",
              "\n",
              "#sk-container-id-1 div.sk-toggleable__content pre {\n",
              "  margin: 0.2em;\n",
              "  border-radius: 0.25em;\n",
              "  color: var(--sklearn-color-text);\n",
              "  /* unfitted */\n",
              "  background-color: var(--sklearn-color-unfitted-level-0);\n",
              "}\n",
              "\n",
              "#sk-container-id-1 div.sk-toggleable__content.fitted pre {\n",
              "  /* unfitted */\n",
              "  background-color: var(--sklearn-color-fitted-level-0);\n",
              "}\n",
              "\n",
              "#sk-container-id-1 input.sk-toggleable__control:checked~div.sk-toggleable__content {\n",
              "  /* Expand drop-down */\n",
              "  display: block;\n",
              "  width: 100%;\n",
              "  overflow: visible;\n",
              "}\n",
              "\n",
              "#sk-container-id-1 input.sk-toggleable__control:checked~label.sk-toggleable__label-arrow:before {\n",
              "  content: \"▾\";\n",
              "}\n",
              "\n",
              "/* Pipeline/ColumnTransformer-specific style */\n",
              "\n",
              "#sk-container-id-1 div.sk-label input.sk-toggleable__control:checked~label.sk-toggleable__label {\n",
              "  color: var(--sklearn-color-text);\n",
              "  background-color: var(--sklearn-color-unfitted-level-2);\n",
              "}\n",
              "\n",
              "#sk-container-id-1 div.sk-label.fitted input.sk-toggleable__control:checked~label.sk-toggleable__label {\n",
              "  background-color: var(--sklearn-color-fitted-level-2);\n",
              "}\n",
              "\n",
              "/* Estimator-specific style */\n",
              "\n",
              "/* Colorize estimator box */\n",
              "#sk-container-id-1 div.sk-estimator input.sk-toggleable__control:checked~label.sk-toggleable__label {\n",
              "  /* unfitted */\n",
              "  background-color: var(--sklearn-color-unfitted-level-2);\n",
              "}\n",
              "\n",
              "#sk-container-id-1 div.sk-estimator.fitted input.sk-toggleable__control:checked~label.sk-toggleable__label {\n",
              "  /* fitted */\n",
              "  background-color: var(--sklearn-color-fitted-level-2);\n",
              "}\n",
              "\n",
              "#sk-container-id-1 div.sk-label label.sk-toggleable__label,\n",
              "#sk-container-id-1 div.sk-label label {\n",
              "  /* The background is the default theme color */\n",
              "  color: var(--sklearn-color-text-on-default-background);\n",
              "}\n",
              "\n",
              "/* On hover, darken the color of the background */\n",
              "#sk-container-id-1 div.sk-label:hover label.sk-toggleable__label {\n",
              "  color: var(--sklearn-color-text);\n",
              "  background-color: var(--sklearn-color-unfitted-level-2);\n",
              "}\n",
              "\n",
              "/* Label box, darken color on hover, fitted */\n",
              "#sk-container-id-1 div.sk-label.fitted:hover label.sk-toggleable__label.fitted {\n",
              "  color: var(--sklearn-color-text);\n",
              "  background-color: var(--sklearn-color-fitted-level-2);\n",
              "}\n",
              "\n",
              "/* Estimator label */\n",
              "\n",
              "#sk-container-id-1 div.sk-label label {\n",
              "  font-family: monospace;\n",
              "  font-weight: bold;\n",
              "  display: inline-block;\n",
              "  line-height: 1.2em;\n",
              "}\n",
              "\n",
              "#sk-container-id-1 div.sk-label-container {\n",
              "  text-align: center;\n",
              "}\n",
              "\n",
              "/* Estimator-specific */\n",
              "#sk-container-id-1 div.sk-estimator {\n",
              "  font-family: monospace;\n",
              "  border: 1px dotted var(--sklearn-color-border-box);\n",
              "  border-radius: 0.25em;\n",
              "  box-sizing: border-box;\n",
              "  margin-bottom: 0.5em;\n",
              "  /* unfitted */\n",
              "  background-color: var(--sklearn-color-unfitted-level-0);\n",
              "}\n",
              "\n",
              "#sk-container-id-1 div.sk-estimator.fitted {\n",
              "  /* fitted */\n",
              "  background-color: var(--sklearn-color-fitted-level-0);\n",
              "}\n",
              "\n",
              "/* on hover */\n",
              "#sk-container-id-1 div.sk-estimator:hover {\n",
              "  /* unfitted */\n",
              "  background-color: var(--sklearn-color-unfitted-level-2);\n",
              "}\n",
              "\n",
              "#sk-container-id-1 div.sk-estimator.fitted:hover {\n",
              "  /* fitted */\n",
              "  background-color: var(--sklearn-color-fitted-level-2);\n",
              "}\n",
              "\n",
              "/* Specification for estimator info (e.g. \"i\" and \"?\") */\n",
              "\n",
              "/* Common style for \"i\" and \"?\" */\n",
              "\n",
              ".sk-estimator-doc-link,\n",
              "a:link.sk-estimator-doc-link,\n",
              "a:visited.sk-estimator-doc-link {\n",
              "  float: right;\n",
              "  font-size: smaller;\n",
              "  line-height: 1em;\n",
              "  font-family: monospace;\n",
              "  background-color: var(--sklearn-color-background);\n",
              "  border-radius: 1em;\n",
              "  height: 1em;\n",
              "  width: 1em;\n",
              "  text-decoration: none !important;\n",
              "  margin-left: 0.5em;\n",
              "  text-align: center;\n",
              "  /* unfitted */\n",
              "  border: var(--sklearn-color-unfitted-level-1) 1pt solid;\n",
              "  color: var(--sklearn-color-unfitted-level-1);\n",
              "}\n",
              "\n",
              ".sk-estimator-doc-link.fitted,\n",
              "a:link.sk-estimator-doc-link.fitted,\n",
              "a:visited.sk-estimator-doc-link.fitted {\n",
              "  /* fitted */\n",
              "  border: var(--sklearn-color-fitted-level-1) 1pt solid;\n",
              "  color: var(--sklearn-color-fitted-level-1);\n",
              "}\n",
              "\n",
              "/* On hover */\n",
              "div.sk-estimator:hover .sk-estimator-doc-link:hover,\n",
              ".sk-estimator-doc-link:hover,\n",
              "div.sk-label-container:hover .sk-estimator-doc-link:hover,\n",
              ".sk-estimator-doc-link:hover {\n",
              "  /* unfitted */\n",
              "  background-color: var(--sklearn-color-unfitted-level-3);\n",
              "  color: var(--sklearn-color-background);\n",
              "  text-decoration: none;\n",
              "}\n",
              "\n",
              "div.sk-estimator.fitted:hover .sk-estimator-doc-link.fitted:hover,\n",
              ".sk-estimator-doc-link.fitted:hover,\n",
              "div.sk-label-container:hover .sk-estimator-doc-link.fitted:hover,\n",
              ".sk-estimator-doc-link.fitted:hover {\n",
              "  /* fitted */\n",
              "  background-color: var(--sklearn-color-fitted-level-3);\n",
              "  color: var(--sklearn-color-background);\n",
              "  text-decoration: none;\n",
              "}\n",
              "\n",
              "/* Span, style for the box shown on hovering the info icon */\n",
              ".sk-estimator-doc-link span {\n",
              "  display: none;\n",
              "  z-index: 9999;\n",
              "  position: relative;\n",
              "  font-weight: normal;\n",
              "  right: .2ex;\n",
              "  padding: .5ex;\n",
              "  margin: .5ex;\n",
              "  width: min-content;\n",
              "  min-width: 20ex;\n",
              "  max-width: 50ex;\n",
              "  color: var(--sklearn-color-text);\n",
              "  box-shadow: 2pt 2pt 4pt #999;\n",
              "  /* unfitted */\n",
              "  background: var(--sklearn-color-unfitted-level-0);\n",
              "  border: .5pt solid var(--sklearn-color-unfitted-level-3);\n",
              "}\n",
              "\n",
              ".sk-estimator-doc-link.fitted span {\n",
              "  /* fitted */\n",
              "  background: var(--sklearn-color-fitted-level-0);\n",
              "  border: var(--sklearn-color-fitted-level-3);\n",
              "}\n",
              "\n",
              ".sk-estimator-doc-link:hover span {\n",
              "  display: block;\n",
              "}\n",
              "\n",
              "/* \"?\"-specific style due to the `<a>` HTML tag */\n",
              "\n",
              "#sk-container-id-1 a.estimator_doc_link {\n",
              "  float: right;\n",
              "  font-size: 1rem;\n",
              "  line-height: 1em;\n",
              "  font-family: monospace;\n",
              "  background-color: var(--sklearn-color-background);\n",
              "  border-radius: 1rem;\n",
              "  height: 1rem;\n",
              "  width: 1rem;\n",
              "  text-decoration: none;\n",
              "  /* unfitted */\n",
              "  color: var(--sklearn-color-unfitted-level-1);\n",
              "  border: var(--sklearn-color-unfitted-level-1) 1pt solid;\n",
              "}\n",
              "\n",
              "#sk-container-id-1 a.estimator_doc_link.fitted {\n",
              "  /* fitted */\n",
              "  border: var(--sklearn-color-fitted-level-1) 1pt solid;\n",
              "  color: var(--sklearn-color-fitted-level-1);\n",
              "}\n",
              "\n",
              "/* On hover */\n",
              "#sk-container-id-1 a.estimator_doc_link:hover {\n",
              "  /* unfitted */\n",
              "  background-color: var(--sklearn-color-unfitted-level-3);\n",
              "  color: var(--sklearn-color-background);\n",
              "  text-decoration: none;\n",
              "}\n",
              "\n",
              "#sk-container-id-1 a.estimator_doc_link.fitted:hover {\n",
              "  /* fitted */\n",
              "  background-color: var(--sklearn-color-fitted-level-3);\n",
              "}\n",
              "\n",
              ".estimator-table summary {\n",
              "    padding: .5rem;\n",
              "    font-family: monospace;\n",
              "    cursor: pointer;\n",
              "}\n",
              "\n",
              ".estimator-table details[open] {\n",
              "    padding-left: 0.1rem;\n",
              "    padding-right: 0.1rem;\n",
              "    padding-bottom: 0.3rem;\n",
              "}\n",
              "\n",
              ".estimator-table .parameters-table {\n",
              "    margin-left: auto !important;\n",
              "    margin-right: auto !important;\n",
              "}\n",
              "\n",
              ".estimator-table .parameters-table tr:nth-child(odd) {\n",
              "    background-color: #fff;\n",
              "}\n",
              "\n",
              ".estimator-table .parameters-table tr:nth-child(even) {\n",
              "    background-color: #f6f6f6;\n",
              "}\n",
              "\n",
              ".estimator-table .parameters-table tr:hover {\n",
              "    background-color: #e0e0e0;\n",
              "}\n",
              "\n",
              ".estimator-table table td {\n",
              "    border: 1px solid rgba(106, 105, 104, 0.232);\n",
              "}\n",
              "\n",
              ".user-set td {\n",
              "    color:rgb(255, 94, 0);\n",
              "    text-align: left;\n",
              "}\n",
              "\n",
              ".user-set td.value pre {\n",
              "    color:rgb(255, 94, 0) !important;\n",
              "    background-color: transparent !important;\n",
              "}\n",
              "\n",
              ".default td {\n",
              "    color: black;\n",
              "    text-align: left;\n",
              "}\n",
              "\n",
              ".user-set td i,\n",
              ".default td i {\n",
              "    color: black;\n",
              "}\n",
              "\n",
              ".copy-paste-icon {\n",
              "    background-image: url(data:image/svg+xml;base64,PHN2ZyB4bWxucz0iaHR0cDovL3d3dy53My5vcmcvMjAwMC9zdmciIHZpZXdCb3g9IjAgMCA0NDggNTEyIj48IS0tIUZvbnQgQXdlc29tZSBGcmVlIDYuNy4yIGJ5IEBmb250YXdlc29tZSAtIGh0dHBzOi8vZm9udGF3ZXNvbWUuY29tIExpY2Vuc2UgLSBodHRwczovL2ZvbnRhd2Vzb21lLmNvbS9saWNlbnNlL2ZyZWUgQ29weXJpZ2h0IDIwMjUgRm9udGljb25zLCBJbmMuLS0+PHBhdGggZD0iTTIwOCAwTDMzMi4xIDBjMTIuNyAwIDI0LjkgNS4xIDMzLjkgMTQuMWw2Ny45IDY3LjljOSA5IDE0LjEgMjEuMiAxNC4xIDMzLjlMNDQ4IDMzNmMwIDI2LjUtMjEuNSA0OC00OCA0OGwtMTkyIDBjLTI2LjUgMC00OC0yMS41LTQ4LTQ4bDAtMjg4YzAtMjYuNSAyMS41LTQ4IDQ4LTQ4ek00OCAxMjhsODAgMCAwIDY0LTY0IDAgMCAyNTYgMTkyIDAgMC0zMiA2NCAwIDAgNDhjMCAyNi41LTIxLjUgNDgtNDggNDhMNDggNTEyYy0yNi41IDAtNDgtMjEuNS00OC00OEwwIDE3NmMwLTI2LjUgMjEuNS00OCA0OC00OHoiLz48L3N2Zz4=);\n",
              "    background-repeat: no-repeat;\n",
              "    background-size: 14px 14px;\n",
              "    background-position: 0;\n",
              "    display: inline-block;\n",
              "    width: 14px;\n",
              "    height: 14px;\n",
              "    cursor: pointer;\n",
              "}\n",
              "</style><body><div id=\"sk-container-id-1\" class=\"sk-top-container\"><div class=\"sk-text-repr-fallback\"><pre>LogisticRegression()</pre><b>In a Jupyter environment, please rerun this cell to show the HTML representation or trust the notebook. <br />On GitHub, the HTML representation is unable to render, please try loading this page with nbviewer.org.</b></div><div class=\"sk-container\" hidden><div class=\"sk-item\"><div class=\"sk-estimator fitted sk-toggleable\"><input class=\"sk-toggleable__control sk-hidden--visually\" id=\"sk-estimator-id-1\" type=\"checkbox\" checked><label for=\"sk-estimator-id-1\" class=\"sk-toggleable__label fitted sk-toggleable__label-arrow\"><div><div>LogisticRegression</div></div><div><a class=\"sk-estimator-doc-link fitted\" rel=\"noreferrer\" target=\"_blank\" href=\"https://scikit-learn.org/1.7/modules/generated/sklearn.linear_model.LogisticRegression.html\">?<span>Documentation for LogisticRegression</span></a><span class=\"sk-estimator-doc-link fitted\">i<span>Fitted</span></span></div></label><div class=\"sk-toggleable__content fitted\" data-param-prefix=\"\">\n",
              "        <div class=\"estimator-table\">\n",
              "            <details>\n",
              "                <summary>Parameters</summary>\n",
              "                <table class=\"parameters-table\">\n",
              "                  <tbody>\n",
              "                    \n",
              "        <tr class=\"default\">\n",
              "            <td><i class=\"copy-paste-icon\"\n",
              "                 onclick=\"copyToClipboard('penalty',\n",
              "                          this.parentElement.nextElementSibling)\"\n",
              "            ></i></td>\n",
              "            <td class=\"param\">penalty&nbsp;</td>\n",
              "            <td class=\"value\">&#x27;l2&#x27;</td>\n",
              "        </tr>\n",
              "    \n",
              "\n",
              "        <tr class=\"default\">\n",
              "            <td><i class=\"copy-paste-icon\"\n",
              "                 onclick=\"copyToClipboard('dual',\n",
              "                          this.parentElement.nextElementSibling)\"\n",
              "            ></i></td>\n",
              "            <td class=\"param\">dual&nbsp;</td>\n",
              "            <td class=\"value\">False</td>\n",
              "        </tr>\n",
              "    \n",
              "\n",
              "        <tr class=\"default\">\n",
              "            <td><i class=\"copy-paste-icon\"\n",
              "                 onclick=\"copyToClipboard('tol',\n",
              "                          this.parentElement.nextElementSibling)\"\n",
              "            ></i></td>\n",
              "            <td class=\"param\">tol&nbsp;</td>\n",
              "            <td class=\"value\">0.0001</td>\n",
              "        </tr>\n",
              "    \n",
              "\n",
              "        <tr class=\"default\">\n",
              "            <td><i class=\"copy-paste-icon\"\n",
              "                 onclick=\"copyToClipboard('C',\n",
              "                          this.parentElement.nextElementSibling)\"\n",
              "            ></i></td>\n",
              "            <td class=\"param\">C&nbsp;</td>\n",
              "            <td class=\"value\">1.0</td>\n",
              "        </tr>\n",
              "    \n",
              "\n",
              "        <tr class=\"default\">\n",
              "            <td><i class=\"copy-paste-icon\"\n",
              "                 onclick=\"copyToClipboard('fit_intercept',\n",
              "                          this.parentElement.nextElementSibling)\"\n",
              "            ></i></td>\n",
              "            <td class=\"param\">fit_intercept&nbsp;</td>\n",
              "            <td class=\"value\">True</td>\n",
              "        </tr>\n",
              "    \n",
              "\n",
              "        <tr class=\"default\">\n",
              "            <td><i class=\"copy-paste-icon\"\n",
              "                 onclick=\"copyToClipboard('intercept_scaling',\n",
              "                          this.parentElement.nextElementSibling)\"\n",
              "            ></i></td>\n",
              "            <td class=\"param\">intercept_scaling&nbsp;</td>\n",
              "            <td class=\"value\">1</td>\n",
              "        </tr>\n",
              "    \n",
              "\n",
              "        <tr class=\"default\">\n",
              "            <td><i class=\"copy-paste-icon\"\n",
              "                 onclick=\"copyToClipboard('class_weight',\n",
              "                          this.parentElement.nextElementSibling)\"\n",
              "            ></i></td>\n",
              "            <td class=\"param\">class_weight&nbsp;</td>\n",
              "            <td class=\"value\">None</td>\n",
              "        </tr>\n",
              "    \n",
              "\n",
              "        <tr class=\"default\">\n",
              "            <td><i class=\"copy-paste-icon\"\n",
              "                 onclick=\"copyToClipboard('random_state',\n",
              "                          this.parentElement.nextElementSibling)\"\n",
              "            ></i></td>\n",
              "            <td class=\"param\">random_state&nbsp;</td>\n",
              "            <td class=\"value\">None</td>\n",
              "        </tr>\n",
              "    \n",
              "\n",
              "        <tr class=\"default\">\n",
              "            <td><i class=\"copy-paste-icon\"\n",
              "                 onclick=\"copyToClipboard('solver',\n",
              "                          this.parentElement.nextElementSibling)\"\n",
              "            ></i></td>\n",
              "            <td class=\"param\">solver&nbsp;</td>\n",
              "            <td class=\"value\">&#x27;lbfgs&#x27;</td>\n",
              "        </tr>\n",
              "    \n",
              "\n",
              "        <tr class=\"default\">\n",
              "            <td><i class=\"copy-paste-icon\"\n",
              "                 onclick=\"copyToClipboard('max_iter',\n",
              "                          this.parentElement.nextElementSibling)\"\n",
              "            ></i></td>\n",
              "            <td class=\"param\">max_iter&nbsp;</td>\n",
              "            <td class=\"value\">100</td>\n",
              "        </tr>\n",
              "    \n",
              "\n",
              "        <tr class=\"default\">\n",
              "            <td><i class=\"copy-paste-icon\"\n",
              "                 onclick=\"copyToClipboard('multi_class',\n",
              "                          this.parentElement.nextElementSibling)\"\n",
              "            ></i></td>\n",
              "            <td class=\"param\">multi_class&nbsp;</td>\n",
              "            <td class=\"value\">&#x27;deprecated&#x27;</td>\n",
              "        </tr>\n",
              "    \n",
              "\n",
              "        <tr class=\"default\">\n",
              "            <td><i class=\"copy-paste-icon\"\n",
              "                 onclick=\"copyToClipboard('verbose',\n",
              "                          this.parentElement.nextElementSibling)\"\n",
              "            ></i></td>\n",
              "            <td class=\"param\">verbose&nbsp;</td>\n",
              "            <td class=\"value\">0</td>\n",
              "        </tr>\n",
              "    \n",
              "\n",
              "        <tr class=\"default\">\n",
              "            <td><i class=\"copy-paste-icon\"\n",
              "                 onclick=\"copyToClipboard('warm_start',\n",
              "                          this.parentElement.nextElementSibling)\"\n",
              "            ></i></td>\n",
              "            <td class=\"param\">warm_start&nbsp;</td>\n",
              "            <td class=\"value\">False</td>\n",
              "        </tr>\n",
              "    \n",
              "\n",
              "        <tr class=\"default\">\n",
              "            <td><i class=\"copy-paste-icon\"\n",
              "                 onclick=\"copyToClipboard('n_jobs',\n",
              "                          this.parentElement.nextElementSibling)\"\n",
              "            ></i></td>\n",
              "            <td class=\"param\">n_jobs&nbsp;</td>\n",
              "            <td class=\"value\">None</td>\n",
              "        </tr>\n",
              "    \n",
              "\n",
              "        <tr class=\"default\">\n",
              "            <td><i class=\"copy-paste-icon\"\n",
              "                 onclick=\"copyToClipboard('l1_ratio',\n",
              "                          this.parentElement.nextElementSibling)\"\n",
              "            ></i></td>\n",
              "            <td class=\"param\">l1_ratio&nbsp;</td>\n",
              "            <td class=\"value\">None</td>\n",
              "        </tr>\n",
              "    \n",
              "                  </tbody>\n",
              "                </table>\n",
              "            </details>\n",
              "        </div>\n",
              "    </div></div></div></div></div><script>function copyToClipboard(text, element) {\n",
              "    // Get the parameter prefix from the closest toggleable content\n",
              "    const toggleableContent = element.closest('.sk-toggleable__content');\n",
              "    const paramPrefix = toggleableContent ? toggleableContent.dataset.paramPrefix : '';\n",
              "    const fullParamName = paramPrefix ? `${paramPrefix}${text}` : text;\n",
              "\n",
              "    const originalStyle = element.style;\n",
              "    const computedStyle = window.getComputedStyle(element);\n",
              "    const originalWidth = computedStyle.width;\n",
              "    const originalHTML = element.innerHTML.replace('Copied!', '');\n",
              "\n",
              "    navigator.clipboard.writeText(fullParamName)\n",
              "        .then(() => {\n",
              "            element.style.width = originalWidth;\n",
              "            element.style.color = 'green';\n",
              "            element.innerHTML = \"Copied!\";\n",
              "\n",
              "            setTimeout(() => {\n",
              "                element.innerHTML = originalHTML;\n",
              "                element.style = originalStyle;\n",
              "            }, 2000);\n",
              "        })\n",
              "        .catch(err => {\n",
              "            console.error('Failed to copy:', err);\n",
              "            element.style.color = 'red';\n",
              "            element.innerHTML = \"Failed!\";\n",
              "            setTimeout(() => {\n",
              "                element.innerHTML = originalHTML;\n",
              "                element.style = originalStyle;\n",
              "            }, 2000);\n",
              "        });\n",
              "    return false;\n",
              "}\n",
              "\n",
              "document.querySelectorAll('.fa-regular.fa-copy').forEach(function(element) {\n",
              "    const toggleableContent = element.closest('.sk-toggleable__content');\n",
              "    const paramPrefix = toggleableContent ? toggleableContent.dataset.paramPrefix : '';\n",
              "    const paramName = element.parentElement.nextElementSibling.textContent.trim();\n",
              "    const fullParamName = paramPrefix ? `${paramPrefix}${paramName}` : paramName;\n",
              "\n",
              "    element.setAttribute('title', fullParamName);\n",
              "});\n",
              "</script></body>"
            ],
            "text/plain": [
              "LogisticRegression()"
            ]
          },
          "execution_count": 25,
          "metadata": {},
          "output_type": "execute_result"
        }
      ],
      "source": [
        "model.fit(X_train, Y_train)"
      ]
    },
    {
      "cell_type": "markdown",
      "metadata": {
        "id": "fJWpBsP8K7kc"
      },
      "source": [
        "Evaluation"
      ]
    },
    {
      "cell_type": "code",
      "execution_count": 26,
      "metadata": {
        "id": "8LXCZuOFKwA5"
      },
      "outputs": [],
      "source": [
        "#accuracy score on training data\n",
        "X_train_prediction = model.predict(X_train)\n",
        "training_data_accuracy = accuracy_score(X_train_prediction, Y_train)"
      ]
    },
    {
      "cell_type": "code",
      "execution_count": 27,
      "metadata": {
        "colab": {
          "base_uri": "https://localhost:8080/"
        },
        "id": "BtT7xNo3Lj3f",
        "outputId": "6a367301-6c8b-43f1-885b-1d79dd54f0a4"
      },
      "outputs": [
        {
          "name": "stdout",
          "output_type": "stream",
          "text": [
            "Accuracy score of training data:  0.9919260537891865\n"
          ]
        }
      ],
      "source": [
        "print('Accuracy score of training data: ', training_data_accuracy)"
      ]
    },
    {
      "cell_type": "code",
      "execution_count": 28,
      "metadata": {
        "id": "Jtr1NvToLsBd"
      },
      "outputs": [],
      "source": [
        "#accuracy score on test data\n",
        "X_test_prediction = model.predict(X_test)\n",
        "test_data_accuracy = accuracy_score(X_test_prediction, Y_test)"
      ]
    },
    {
      "cell_type": "code",
      "execution_count": 29,
      "metadata": {
        "colab": {
          "base_uri": "https://localhost:8080/"
        },
        "id": "EDhgBCDRMQ0p",
        "outputId": "43e69274-6654-43d3-8b2c-2f31cc7cb237"
      },
      "outputs": [
        {
          "name": "stdout",
          "output_type": "stream",
          "text": [
            "Accuracy score of test data:  0.9865256124721603\n"
          ]
        }
      ],
      "source": [
        "print('Accuracy score of test data: ', test_data_accuracy)"
      ]
    },
    {
      "cell_type": "code",
      "execution_count": 30,
      "metadata": {
        "colab": {
          "base_uri": "https://localhost:8080/"
        },
        "id": "_YXIXNIiMUh-",
        "outputId": "d8a3af84-38b4-4040-f359-ba0f718a06f9"
      },
      "outputs": [
        {
          "name": "stdout",
          "output_type": "stream",
          "text": [
            "The news is Fake\n"
          ]
        }
      ],
      "source": [
        "X_new = X_test[5]\n",
        "\n",
        "prediction = model.predict(X_new)\n",
        "\n",
        "if (prediction[0]=='real'):\n",
        "  print('The news is Real')\n",
        "else:\n",
        "  print('The news is Fake')"
      ]
    },
    {
      "cell_type": "code",
      "execution_count": 31,
      "metadata": {
        "colab": {
          "base_uri": "https://localhost:8080/"
        },
        "id": "EHybyFNURHQK",
        "outputId": "18904ba4-eeee-4783-fb7e-dca1ed89f6d5"
      },
      "outputs": [
        {
          "name": "stdout",
          "output_type": "stream",
          "text": [
            "fake\n"
          ]
        }
      ],
      "source": [
        "print(Y_test[5])"
      ]
    },
    {
      "cell_type": "code",
      "execution_count": 37,
      "metadata": {
        "id": "PfgvNcYwTAF6"
      },
      "outputs": [
        {
          "name": "stdout",
          "output_type": "stream",
          "text": [
            "['real']\n"
          ]
        }
      ],
      "source": [
        "sample_title = \"India's GDP Grows by 7.8% in Q1 FY25, Says Finance Ministry\"\n",
        "sample_text = \"India's economy grew at a rate of 7.8% in the first quarter of the financial year 2024-25, according to data released by the Ministry of Finance. The growth was driven by strong performances in the manufacturing and services sectors. Finance Minister Nirmala Sitharaman said the numbers reflect India's resilient economic fundamentals, despite global challenges such as rising oil prices and geopolitical tensions.\"\n",
        "\n",
        "sample_input = sample_title + \" \" + sample_text\n",
        "sample_input = stemming(sample_input)\n",
        "sample_vector = vectorizer.transform([sample_input])\n",
        "prediction = model.predict(sample_vector)\n",
        "print(prediction)"
      ]
    }
  ],
  "metadata": {
    "colab": {
      "provenance": []
    },
    "kernelspec": {
      "display_name": "env",
      "language": "python",
      "name": "python3"
    },
    "language_info": {
      "codemirror_mode": {
        "name": "ipython",
        "version": 3
      },
      "file_extension": ".py",
      "mimetype": "text/x-python",
      "name": "python",
      "nbconvert_exporter": "python",
      "pygments_lexer": "ipython3",
      "version": "3.11.5"
    }
  },
  "nbformat": 4,
  "nbformat_minor": 0
}
